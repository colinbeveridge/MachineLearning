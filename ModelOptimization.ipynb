{
 "cells": [
  {
   "cell_type": "code",
   "execution_count": 42,
   "metadata": {},
   "outputs": [
    {
     "name": "stdout",
     "output_type": "stream",
     "text": [
      "<class 'pandas.core.frame.DataFrame'>\n",
      "RangeIndex: 1000 entries, 0 to 999\n",
      "Data columns (total 17 columns):\n",
      " #   Column        Non-Null Count  Dtype  \n",
      "---  ------        --------------  -----  \n",
      " 0   strength      1000 non-null   int64  \n",
      " 1   dexterity     1000 non-null   int64  \n",
      " 2   constitution  1000 non-null   int64  \n",
      " 3   wisdom        1000 non-null   int64  \n",
      " 4   intelligence  1000 non-null   int64  \n",
      " 5   charisma      1000 non-null   int64  \n",
      " 6   weight        1000 non-null   int64  \n",
      " 7   height        1000 non-null   int64  \n",
      " 8   modifier1     1000 non-null   int64  \n",
      " 9   modifier2     1000 non-null   int64  \n",
      " 10  modifier3     1000 non-null   int64  \n",
      " 11  modifier4     1000 non-null   int64  \n",
      " 12  modifier5     1000 non-null   int64  \n",
      " 13  modifier6     1000 non-null   int64  \n",
      " 14  modifier7     1000 non-null   int64  \n",
      " 15  modifier8     1000 non-null   int64  \n",
      " 16  score         1000 non-null   float64\n",
      "dtypes: float64(1), int64(16)\n",
      "memory usage: 132.9 KB\n",
      "1    413.145270\n",
      "2    510.830805\n",
      "3    392.261796\n",
      "4    472.258696\n",
      "5    668.689657\n",
      "6    281.910880\n",
      "7    420.141312\n",
      "8    313.146290\n",
      "9    533.166185\n",
      "Name: score, dtype: float64\n"
     ]
    }
   ],
   "source": [
    "import pandas as pd\n",
    "import sklearn.model_selection as skmod\n",
    "import sklearn.linear_model as sklin\n",
    "import sklearn.metrics as skmet\n",
    "import matplotlib.pyplot as plt\n",
    "%matplotlib inline\n",
    "\n",
    "folder = 'Data/'\n",
    "lasso = pd.read_csv(folder+'LASSO-data-set.csv')\n",
    "lasso.info()\n",
    "lasso.shape\n",
    "\n",
    "dependent = 'score'\n",
    "\n",
    "print(lasso.score[1:10])\n",
    "\n",
    "X = lasso\n",
    "y = lasso[dependent]\n",
    "X.drop(dependent,axis=1,inplace=True)\n",
    "\n",
    "X_train, X_test, y_train, y_test = skmod.train_test_split(X,y,test_size=.25,random_state=0)\n"
   ]
  },
  {
   "cell_type": "code",
   "execution_count": 43,
   "metadata": {},
   "outputs": [
    {
     "data": {
      "text/plain": [
       "1.0749236577654113"
      ]
     },
     "execution_count": 43,
     "metadata": {},
     "output_type": "execute_result"
    }
   ],
   "source": [
    "mod = sklin.LassoCV().fit(X_train,y_train)\n",
    "mod.alpha_"
   ]
  },
  {
   "cell_type": "code",
   "execution_count": 44,
   "metadata": {},
   "outputs": [
    {
     "data": {
      "text/plain": [
       "<matplotlib.collections.PathCollection at 0x1d1ea4f0>"
      ]
     },
     "execution_count": 44,
     "metadata": {},
     "output_type": "execute_result"
    },
    {
     "data": {
      "image/png": "[encoded data removed]",
      "text/plain": [
       "<Figure size 432x288 with 1 Axes>"
      ]
     },
     "metadata": {
      "needs_background": "light"
     },
     "output_type": "display_data"
    }
   ],
   "source": [
    "mod.score(X_test,y_test)\n",
    "\n",
    "y_predict = mod.predict(X_test)\n",
    "\n",
    "y_reserror = y_predict - y_test\n",
    "\n",
    "plt.scatter(y_test,y_predict)\n"
   ]
  },
  {
   "cell_type": "code",
   "execution_count": 45,
   "metadata": {},
   "outputs": [
    {
     "data": {
      "text/plain": [
       "<matplotlib.collections.PathCollection at 0x1d21cd30>"
      ]
     },
     "execution_count": 45,
     "metadata": {},
     "output_type": "execute_result"
    },
    {
     "data": {
      "image/png": "[encoded data removed]",
      "text/plain": [
       "<Figure size 432x288 with 1 Axes>"
      ]
     },
     "metadata": {
      "needs_background": "light"
     },
     "output_type": "display_data"
    }
   ],
   "source": [
    "# plot residuals\n",
    "plt.scatter(y_predict,y_reserror)"
   ]
  },
  {
   "cell_type": "code",
   "execution_count": 47,
   "metadata": {},
   "outputs": [
    {
     "name": "stdout",
     "output_type": "stream",
     "text": [
      "993   -1.642187\n",
      "859   -1.493296\n",
      "298    0.302245\n",
      "553    0.088467\n",
      "672    0.147930\n",
      "         ...   \n",
      "462   -0.942525\n",
      "356   -0.902105\n",
      "2      0.179026\n",
      "478   -0.157831\n",
      "695    0.799154\n",
      "Name: score, Length: 250, dtype: float64\n"
     ]
    }
   ],
   "source": [
    "skmet.median_absolute_error(y_test,y_predict)\n"
   ]
  }
 ],
 "metadata": {
  "interpreter": {
   "hash": "23307798908c8a9e946608b3e939b3bcebc8e8621f7a89d72990d9b805e549ed"
  },
  "kernelspec": {
   "display_name": "Python 3.7.4 32-bit",
   "language": "python",
   "name": "python3"
  },
  "language_info": {
   "codemirror_mode": {
    "name": "ipython",
    "version": 3
   },
   "file_extension": ".py",
   "mimetype": "text/x-python",
   "name": "python",
   "nbconvert_exporter": "python",
   "pygments_lexer": "ipython3",
   "version": "3.7.4"
  },
  "orig_nbformat": 4
 },
 "nbformat": 4,
 "nbformat_minor": 2
}
