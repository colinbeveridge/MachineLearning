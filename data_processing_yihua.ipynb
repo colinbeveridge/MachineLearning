{
 "cells": [
  {
   "cell_type": "code",
   "execution_count": 1,
   "id": "57957310-6775-43d5-9aae-f17bdd1184bf",
   "metadata": {},
   "outputs": [],
   "source": [
    "import pandas as pd"
   ]
  },
  {
   "cell_type": "code",
   "execution_count": null,
   "id": "53c92955-ee3e-4575-ac9f-08fbe01ba016",
   "metadata": {},
   "outputs": [],
   "source": [
    "songs = pd.read_csv('songs.csv')"
   ]
  },
  {
   "cell_type": "code",
   "execution_count": null,
   "id": "fa9e57b2-1094-4bfa-8442-3b064c4b2157",
   "metadata": {},
   "outputs": [],
   "source": [
    "songs"
   ]
  },
  {
   "cell_type": "markdown",
   "id": "5dab4a44-5f50-4733-84ab-109c1895c6ca",
   "metadata": {},
   "source": [
    "## Clean the data"
   ]
  },
  {
   "cell_type": "code",
   "execution_count": null,
   "id": "221424aa-e159-405c-9517-5b8339300424",
   "metadata": {},
   "outputs": [],
   "source": [
    "songs.dtypes"
   ]
  },
  {
   "cell_type": "code",
   "execution_count": null,
   "id": "70c2533b-19d8-4fcb-a479-eaaf552719a2",
   "metadata": {},
   "outputs": [],
   "source": [
    "# Why is Pandas treating 'Month' as 'object' data type by default instead of a numeric data type? We are expecting only numeric values in that column.\n",
    "\n",
    "pd.to_numeric(songs['Month'])"
   ]
  },
  {
   "cell_type": "code",
   "execution_count": null,
   "id": "41a5b12f-4d02-44c4-b90c-e94d11c5a6c3",
   "metadata": {},
   "outputs": [],
   "source": [
    "# There's a 'Jan' value in that column causing errors.\n",
    "\n",
    "songs['Month'].value_counts()"
   ]
  },
  {
   "cell_type": "code",
   "execution_count": null,
   "id": "15b11d9e-1f63-49f3-a86e-9bce66ad84e8",
   "metadata": {},
   "outputs": [],
   "source": [
    "# It appears that some months were recorded with written abbreviations.\n",
    "\n",
    "month_dict = {\n",
    "    'Jan': 1,\n",
    "    'Feb': 2,\n",
    "    'Apr': 4,\n",
    "    'May': 5,\n",
    "    'Jun': 6,\n",
    "    'Sep': 9,\n",
    "    'Dec': 12\n",
    "}\n",
    "\n",
    "songs['Month'].replace(month_dict, inplace=True)\n",
    "songs['Month'] = pd.to_numeric(songs['Month'])"
   ]
  },
  {
   "cell_type": "code",
   "execution_count": null,
   "id": "83be139e-2f5d-4c70-8661-6c4edc985386",
   "metadata": {},
   "outputs": [],
   "source": [
    "songs['Month'].value_counts()"
   ]
  },
  {
   "cell_type": "code",
   "execution_count": null,
   "id": "942da71f-181d-4736-b75e-bcd05c97d5e7",
   "metadata": {},
   "outputs": [],
   "source": [
    "# Similarly, for 'Length (Duration)', why is Pandas treating the column as 'object' data type by default when we would expect only numeric values?\n",
    "\n",
    "pd.to_numeric(songs['Length (Duration)'])"
   ]
  },
  {
   "cell_type": "code",
   "execution_count": null,
   "id": "4ebd3750-6482-4a4d-ba0e-5609ca1eb0af",
   "metadata": {},
   "outputs": [],
   "source": [
    "# The commas are causing the problem.\n",
    "\n",
    "songs['Length (Duration)'] = pd.to_numeric(songs['Length (Duration)'].str.replace(',', ''))"
   ]
  },
  {
   "cell_type": "code",
   "execution_count": null,
   "id": "f69fd2e0-0622-4ce9-8f34-62a51dc9d175",
   "metadata": {},
   "outputs": [],
   "source": [
    "songs['Length (Duration)'].describe()"
   ]
  },
  {
   "cell_type": "markdown",
   "id": "42e5594c-778e-4078-9701-7ef9af69869d",
   "metadata": {},
   "source": [
    "## Remove rows and columns with >= 50% missing values"
   ]
  },
  {
   "cell_type": "code",
   "execution_count": null,
   "id": "df203faa-b6d2-4b5b-97cc-744601cb5a27",
   "metadata": {},
   "outputs": [],
   "source": [
    "orig_col = songs.columns\n",
    "\n",
    "orig_col"
   ]
  },
  {
   "cell_type": "code",
   "execution_count": null,
   "id": "bf5731ee-2eec-4412-ad8f-158b0d1c302e",
   "metadata": {},
   "outputs": [],
   "source": [
    "orig_shape = songs.shape\n",
    "\n",
    "orig_shape\n",
    "\n",
    "# (number of rows, number of columns)"
   ]
  },
  {
   "cell_type": "code",
   "execution_count": null,
   "id": "542dfcde-5c84-45db-9469-8e77eb66e596",
   "metadata": {},
   "outputs": [],
   "source": [
    "songs.dropna(thresh=orig_shape[1]/2, inplace=True)\n",
    "\n",
    "# keep only rows with at least 8 non-missing values\n",
    "\n",
    "# axis=0 is the default, so you don't need to specify it"
   ]
  },
  {
   "cell_type": "code",
   "execution_count": null,
   "id": "5b43e0f8-8823-40a7-a266-4982a4829ad9",
   "metadata": {},
   "outputs": [],
   "source": [
    "songs.shape"
   ]
  },
  {
   "cell_type": "code",
   "execution_count": null,
   "id": "0fc25672-8618-48c3-bb90-41af0ca4a7ea",
   "metadata": {},
   "outputs": [],
   "source": [
    "songs.dropna(axis=1, thresh=orig_shape[0]/2, inplace=True)\n",
    "\n",
    "# keep only columns with at least 8 non-missing values"
   ]
  },
  {
   "cell_type": "code",
   "execution_count": null,
   "id": "7b1806b1-75d2-49d0-8840-c6137674e5cd",
   "metadata": {},
   "outputs": [],
   "source": [
    "songs.shape"
   ]
  },
  {
   "cell_type": "code",
   "execution_count": null,
   "id": "5d0462ff-0f22-4cd8-9586-f0404e5cdf2c",
   "metadata": {},
   "outputs": [],
   "source": [
    "songs"
   ]
  },
  {
   "cell_type": "code",
   "execution_count": null,
   "id": "9e512206-32f8-421c-b598-6afc68d03d56",
   "metadata": {},
   "outputs": [],
   "source": [
    "# index column isn't useful\n",
    "\n",
    "songs.drop('Index', axis=1, inplace=True)\n",
    "\n",
    "# reset index after deleting rows\n",
    "\n",
    "songs.reset_index(drop=True, inplace=True)"
   ]
  },
  {
   "cell_type": "code",
   "execution_count": null,
   "id": "5c6bf49a-dd4d-4d6b-b635-4d9f95a6137c",
   "metadata": {},
   "outputs": [],
   "source": [
    "new_col = songs.columns"
   ]
  },
  {
   "cell_type": "code",
   "execution_count": null,
   "id": "23190bdb-8f7a-4c8f-8fa3-c7cb7555b302",
   "metadata": {},
   "outputs": [],
   "source": [
    "set(orig_col) - set(new_col)"
   ]
  },
  {
   "cell_type": "markdown",
   "id": "8d9863bf-93f1-423d-b970-14933feb3688",
   "metadata": {},
   "source": [
    "## Descriptive statistics"
   ]
  },
  {
   "cell_type": "code",
   "execution_count": null,
   "id": "b7c6eb6a-1c11-42d3-829b-8716af6e9fd2",
   "metadata": {},
   "outputs": [],
   "source": [
    "songs.describe()"
   ]
  },
  {
   "cell_type": "code",
   "execution_count": null,
   "id": "0aa5c969-48c6-4b82-95ab-dceeb5da71aa",
   "metadata": {},
   "outputs": [],
   "source": [
    "# Minimum year is 92? I don't think music was being recorded back then. This must be a mistake.\n",
    "\n",
    "songs['Year'].sort_values(ascending=True)[:50]"
   ]
  },
  {
   "cell_type": "code",
   "execution_count": null,
   "id": "c3126444-c599-4513-b636-b566fc0c6d82",
   "metadata": {},
   "outputs": [],
   "source": [
    "songs['Year'][1550:1600]"
   ]
  },
  {
   "cell_type": "code",
   "execution_count": null,
   "id": "e31fed5f-6299-4414-9068-88d6f4e4a803",
   "metadata": {},
   "outputs": [],
   "source": [
    "# It appears that 1992 was recorded as 92 instead.\n",
    "\n",
    "songs['Year'].replace(92, 1992, inplace=True)"
   ]
  },
  {
   "cell_type": "code",
   "execution_count": null,
   "id": "b18a9670-baf3-4e07-81ce-9ba0821fe8d6",
   "metadata": {},
   "outputs": [],
   "source": [
    "songs['Year'].describe()"
   ]
  },
  {
   "cell_type": "code",
   "execution_count": null,
   "id": "f554e685-7211-49c4-9c7e-20a257dc220b",
   "metadata": {},
   "outputs": [],
   "source": [
    "songs.describe()"
   ]
  },
  {
   "cell_type": "code",
   "execution_count": null,
   "id": "9a0130dc-c6fd-47ad-b109-c76d5cd99c57",
   "metadata": {},
   "outputs": [],
   "source": [
    "# This seems much more reasonable now.\n",
    "\n",
    "# Now, to find outliers. We only want to look at the numeric columns.\n",
    "\n",
    "for col in songs.describe().columns:\n",
    "    col_mean = songs[col].mean()\n",
    "    col_std = songs[col].std()\n",
    "\n",
    "    print(col, 'outliers')\n",
    "\n",
    "    for value in songs[col]:\n",
    "        if abs(value - col_mean) > 3 * col_std:\n",
    "            print(f'{value}, Z-score: {(value - col_mean) / col_std}')\n",
    "\n",
    "    print('\\r')"
   ]
  },
  {
   "cell_type": "markdown",
   "id": "2e3474e2-8629-4c5f-82a7-0b68e0079bdc",
   "metadata": {},
   "source": [
    "## Imputation"
   ]
  },
  {
   "cell_type": "code",
   "execution_count": null,
   "id": "c7b5247d-7226-4577-a09d-6b2346367a69",
   "metadata": {},
   "outputs": [],
   "source": [
    "import numpy as np\n",
    "from sklearn.impute import SimpleImputer"
   ]
  },
  {
   "cell_type": "code",
   "execution_count": null,
   "id": "c0139fe6-6c92-4ea8-97d7-09e3e61c4d6d",
   "metadata": {},
   "outputs": [],
   "source": [
    "for col in songs:\n",
    "    print(f'{col} missing values: {songs[col].isnull().sum()}')"
   ]
  },
  {
   "cell_type": "code",
   "execution_count": null,
   "id": "00a0f02b-7fe5-49bd-bfef-5c906a594587",
   "metadata": {},
   "outputs": [],
   "source": [
    "continuous_columns = ['Beats Per Minute (BPM)', 'Energy', 'Loudness (dB)', 'Liveness', 'Length (Duration)', 'Acousticness', 'Speechiness', 'Popularity']"
   ]
  },
  {
   "cell_type": "code",
   "execution_count": null,
   "id": "f04d79f7-162b-4a8b-8318-d00acb04e5a4",
   "metadata": {},
   "outputs": [],
   "source": [
    "continuous_imputer = SimpleImputer(missing_values=np.nan, strategy='mean')"
   ]
  },
  {
   "cell_type": "code",
   "execution_count": null,
   "id": "6f82a072-fcd9-4363-b59f-7acdc05eb01d",
   "metadata": {},
   "outputs": [],
   "source": [
    "continuous_imputed_df = pd.DataFrame(continuous_imputer.fit_transform(songs[continuous_columns]), columns=continuous_columns)\n",
    "\n",
    "continuous_imputed_df"
   ]
  },
  {
   "cell_type": "code",
   "execution_count": null,
   "id": "c4b1b492-0d77-44e3-9f8c-d6fb87e8fa3b",
   "metadata": {},
   "outputs": [],
   "source": [
    "for col in continuous_columns:\n",
    "    songs[col] = continuous_imputed_df[col]"
   ]
  },
  {
   "cell_type": "code",
   "execution_count": null,
   "id": "a49e29a7-6545-4b2c-8a72-41f54dcb22a6",
   "metadata": {},
   "outputs": [],
   "source": [
    "categorical_columns = ['Artist', 'Top Genre', 'Year']"
   ]
  },
  {
   "cell_type": "code",
   "execution_count": null,
   "id": "317867e6-0eaa-4957-846a-d726a3572dae",
   "metadata": {},
   "outputs": [],
   "source": [
    "categorical_imputer = SimpleImputer(missing_values=np.nan, strategy='most_frequent')"
   ]
  },
  {
   "cell_type": "code",
   "execution_count": null,
   "id": "49ee112a-1d42-49db-92fb-acd120131b89",
   "metadata": {},
   "outputs": [],
   "source": [
    "categorical_imputed_df = pd.DataFrame(categorical_imputer.fit_transform(songs[categorical_columns]), columns=categorical_columns)\n",
    "\n",
    "categorical_imputed_df"
   ]
  },
  {
   "cell_type": "code",
   "execution_count": null,
   "id": "75592347-f2a8-4203-af81-2ecbacc21c58",
   "metadata": {},
   "outputs": [],
   "source": [
    "for col in categorical_columns:\n",
    "    songs[col] = categorical_imputed_df[col]"
   ]
  },
  {
   "cell_type": "code",
   "execution_count": null,
   "id": "7c67b6c8-46cb-43dd-8f66-9243bb1bb6f0",
   "metadata": {},
   "outputs": [],
   "source": [
    "for col in songs:\n",
    "    print(f'{col} missing values: {songs[col].isnull().sum()}')"
   ]
  },
  {
   "cell_type": "markdown",
   "id": "db919fad-044b-4459-a07e-429af180e31f",
   "metadata": {},
   "source": [
    "## Datetime processing"
   ]
  },
  {
   "cell_type": "code",
   "execution_count": null,
   "id": "2fe7eeb4-b7a6-4d6a-9fc8-5d270236126a",
   "metadata": {},
   "outputs": [],
   "source": [
    "# Year column is currently a float because of the missing values. Now that we've gotten rid of them, we can change the type to int.\n",
    "\n",
    "songs['Year'] = songs['Year'].astype(int)"
   ]
  },
  {
   "cell_type": "code",
   "execution_count": null,
   "id": "e551c0c4-20d5-4109-b724-af89355e1bc7",
   "metadata": {},
   "outputs": [],
   "source": [
    "songs['date'] = songs['Year'].astype(str) + '-' + songs['Month'].astype(str) + '-' + '1'"
   ]
  },
  {
   "cell_type": "code",
   "execution_count": null,
   "id": "7bd70a5b-5f1b-47cc-b4cf-edd91fbed1a3",
   "metadata": {},
   "outputs": [],
   "source": [
    "songs['date']"
   ]
  },
  {
   "cell_type": "code",
   "execution_count": null,
   "id": "b1d27d31-ce72-427d-a20a-48655b122199",
   "metadata": {},
   "outputs": [],
   "source": [
    "songs['date'] = pd.to_datetime(songs['date'])"
   ]
  },
  {
   "cell_type": "code",
   "execution_count": null,
   "id": "c1fef9b7-5b67-48d9-b8b3-424eb9a28869",
   "metadata": {},
   "outputs": [],
   "source": [
    "songs['date']"
   ]
  },
  {
   "cell_type": "code",
   "execution_count": null,
   "id": "9ce8461e-8403-4fa1-a9f7-a39fc8685a70",
   "metadata": {},
   "outputs": [],
   "source": [
    "songs['age'] = pd.to_datetime('2022-01-18') - songs['date']"
   ]
  },
  {
   "cell_type": "code",
   "execution_count": null,
   "id": "61a914d6-0c1f-4d35-9f8f-bd599cb1638f",
   "metadata": {},
   "outputs": [],
   "source": [
    "songs['age']"
   ]
  },
  {
   "cell_type": "code",
   "execution_count": null,
   "id": "7551d6cf-2c79-4704-a9a3-b788f3434a94",
   "metadata": {},
   "outputs": [],
   "source": [
    "age = pd.Series([songs['age'][i].days for i in range(len(songs['age']))])"
   ]
  },
  {
   "cell_type": "code",
   "execution_count": null,
   "id": "fcb2a3fd-3528-42b5-8319-4c13a023a82e",
   "metadata": {},
   "outputs": [],
   "source": [
    "songs['age'] = age"
   ]
  },
  {
   "cell_type": "code",
   "execution_count": null,
   "id": "af4836b8-37bb-4abe-a7cb-62eafcea121a",
   "metadata": {},
   "outputs": [],
   "source": [
    "songs.drop(['Year', 'Month', 'date'], axis=1, inplace=True)"
   ]
  },
  {
   "cell_type": "code",
   "execution_count": null,
   "id": "9b1c7721-26e0-4f00-bce1-df3ce994129f",
   "metadata": {},
   "outputs": [],
   "source": [
    "songs"
   ]
  },
  {
   "cell_type": "markdown",
   "id": "12db0a42",
   "metadata": {},
   "source": [
    "## Dummy variables"
   ]
  },
  {
   "cell_type": "code",
   "execution_count": null,
   "id": "3bac193e-b9e6-41a0-a75a-f4320b0e1986",
   "metadata": {},
   "outputs": [],
   "source": [
    "songs = pd.get_dummies(songs, columns=['Top Genre'], drop_first=True)"
   ]
  },
  {
   "cell_type": "code",
   "execution_count": null,
   "id": "040b1f26-d250-49a0-9989-5730e4c567b3",
   "metadata": {},
   "outputs": [],
   "source": [
    "songs"
   ]
  },
  {
   "cell_type": "code",
   "execution_count": null,
   "id": "9f1c5000-d5b1-4d9e-866e-a0da69908a79",
   "metadata": {},
   "outputs": [],
   "source": []
  }
 ],
 "metadata": {
  "kernelspec": {
   "display_name": "Python 3 (ipykernel)",
   "language": "python",
   "name": "python3"
  },
  "language_info": {
   "codemirror_mode": {
    "name": "ipython",
    "version": 3
   },
   "file_extension": ".py",
   "mimetype": "text/x-python",
   "name": "python",
   "nbconvert_exporter": "python",
   "pygments_lexer": "ipython3",
   "version": "3.7.4"
  }
 },
 "nbformat": 4,
 "nbformat_minor": 5
}
